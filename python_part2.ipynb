{
  "nbformat": 4,
  "nbformat_minor": 0,
  "metadata": {
    "colab": {
      "name": "python-part2",
      "provenance": [],
      "authorship_tag": "ABX9TyPJUy24AuHez889ksf21YOd",
      "include_colab_link": true
    },
    "kernelspec": {
      "name": "python3",
      "display_name": "Python 3"
    }
  },
  "cells": [
    {
      "cell_type": "markdown",
      "metadata": {
        "id": "view-in-github",
        "colab_type": "text"
      },
      "source": [
        "<a href=\"https://colab.research.google.com/github/duc-ke/edu_jupyter_pandas/blob/master/python_part2.ipynb\" target=\"_parent\"><img src=\"https://colab.research.google.com/assets/colab-badge.svg\" alt=\"Open In Colab\"/></a>"
      ]
    },
    {
      "cell_type": "markdown",
      "metadata": {
        "id": "Chb0UnyGipjc",
        "colab_type": "text"
      },
      "source": [
        "# google drive connect\n"
      ]
    },
    {
      "cell_type": "code",
      "metadata": {
        "id": "7OpFbRikqM-X",
        "colab_type": "code",
        "colab": {
          "base_uri": "https://localhost:8080/",
          "height": 122
        },
        "outputId": "cd49e703-00bf-4cb4-9c13-720067581640"
      },
      "source": [
        "from google.colab import auth\n",
        "auth.authenticate_user()\n",
        "\n",
        "from google.colab import drive\n",
        "drive.mount('/content/gdriv')"
      ],
      "execution_count": 2,
      "outputs": [
        {
          "output_type": "stream",
          "text": [
            "Go to this URL in a browser: https://accounts.google.com/o/oauth2/auth?client_id=947318989803-6bn6qk8qdgf4n4g3pfee6491hc0brc4i.apps.googleusercontent.com&redirect_uri=urn%3aietf%3awg%3aoauth%3a2.0%3aoob&response_type=code&scope=email%20https%3a%2f%2fwww.googleapis.com%2fauth%2fdocs.test%20https%3a%2f%2fwww.googleapis.com%2fauth%2fdrive%20https%3a%2f%2fwww.googleapis.com%2fauth%2fdrive.photos.readonly%20https%3a%2f%2fwww.googleapis.com%2fauth%2fpeopleapi.readonly\n",
            "\n",
            "Enter your authorization code:\n",
            "··········\n",
            "Mounted at /content/gdriv\n"
          ],
          "name": "stdout"
        }
      ]
    },
    {
      "cell_type": "markdown",
      "metadata": {
        "id": "TlakA3lr3yNO",
        "colab_type": "text"
      },
      "source": [
        "### for 문 연습"
      ]
    },
    {
      "cell_type": "code",
      "metadata": {
        "id": "QUJyYzDC2Dmr",
        "colab_type": "code",
        "colab": {}
      },
      "source": [
        "# for 문으로 하나씩 출력하기\n",
        "test = ['one', 'two', 'three']"
      ],
      "execution_count": null,
      "outputs": []
    },
    {
      "cell_type": "code",
      "metadata": {
        "id": "5jjFixR73wes",
        "colab_type": "code",
        "colab": {}
      },
      "source": [
        ""
      ],
      "execution_count": null,
      "outputs": []
    },
    {
      "cell_type": "code",
      "metadata": {
        "id": "KKvbNMSe2qK2",
        "colab_type": "code",
        "colab": {}
      },
      "source": [
        "# for 문을 이용하여 60점 이상이면 합격, 아니면 불합격을 출력\n",
        "# 출력 문 : 'i 번 학생 축하합니다. 합격입니다.' / 'i 번 학생 불합격입니다.'\n",
        "scores = [90, 25, 67, 45, 80]"
      ],
      "execution_count": null,
      "outputs": []
    },
    {
      "cell_type": "code",
      "metadata": {
        "id": "MG-cxT8Z3PV4",
        "colab_type": "code",
        "colab": {}
      },
      "source": [
        ""
      ],
      "execution_count": null,
      "outputs": []
    },
    {
      "cell_type": "markdown",
      "metadata": {
        "id": "KG_2ZGLz3P7c",
        "colab_type": "text"
      },
      "source": [
        "### range와 enumerate 함수"
      ]
    },
    {
      "cell_type": "code",
      "metadata": {
        "id": "uWrEKSr34AAO",
        "colab_type": "code",
        "colab": {
          "base_uri": "https://localhost:8080/",
          "height": 34
        },
        "outputId": "dafe6790-8a0a-4d23-cedc-fe053d1d919c"
      },
      "source": [
        "range(5)"
      ],
      "execution_count": null,
      "outputs": [
        {
          "output_type": "execute_result",
          "data": {
            "text/plain": [
              "range(0, 5)"
            ]
          },
          "metadata": {
            "tags": []
          },
          "execution_count": 14
        }
      ]
    },
    {
      "cell_type": "code",
      "metadata": {
        "id": "2XLM02k04Swq",
        "colab_type": "code",
        "colab": {
          "base_uri": "https://localhost:8080/",
          "height": 34
        },
        "outputId": "2cb394eb-ad00-4c10-eddc-b778d036b137"
      },
      "source": [
        "list(range(5))"
      ],
      "execution_count": null,
      "outputs": [
        {
          "output_type": "execute_result",
          "data": {
            "text/plain": [
              "[0, 1, 2, 3, 4]"
            ]
          },
          "metadata": {
            "tags": []
          },
          "execution_count": 15
        }
      ]
    },
    {
      "cell_type": "code",
      "metadata": {
        "id": "LgFBUUkT4V7y",
        "colab_type": "code",
        "colab": {
          "base_uri": "https://localhost:8080/",
          "height": 102
        },
        "outputId": "67cc5ff6-d0d9-49b9-85ba-42a1dcf17e47"
      },
      "source": [
        "for i in range(5):\n",
        "  print(i)"
      ],
      "execution_count": null,
      "outputs": [
        {
          "output_type": "stream",
          "text": [
            "0\n",
            "1\n",
            "2\n",
            "3\n",
            "4\n"
          ],
          "name": "stdout"
        }
      ]
    },
    {
      "cell_type": "code",
      "metadata": {
        "id": "1KYnS2dZ4bnw",
        "colab_type": "code",
        "colab": {}
      },
      "source": [
        "# for 문의 2번째 문제를 range로 풀어보기\n",
        "# hint :  ? 번째 학생 인덱싱을 len, range, scores를 이용하여 풀어본다. \n",
        "scores = [90, 25, 67, 45, 80]"
      ],
      "execution_count": null,
      "outputs": []
    },
    {
      "cell_type": "code",
      "metadata": {
        "id": "jeGSh_hd5I6T",
        "colab_type": "code",
        "colab": {}
      },
      "source": [
        ""
      ],
      "execution_count": null,
      "outputs": []
    },
    {
      "cell_type": "code",
      "metadata": {
        "id": "vRti39ms5Jyo",
        "colab_type": "code",
        "colab": {}
      },
      "source": [
        "# for 문을 활용한 구구단 출력\n",
        "for i in range():\n",
        "  for j in range():\n",
        "    print(i * j, end=)"
      ],
      "execution_count": null,
      "outputs": []
    },
    {
      "cell_type": "code",
      "metadata": {
        "id": "SiRYMuR_5fQB",
        "colab_type": "code",
        "colab": {}
      },
      "source": [
        "# for 문의 2번째 문제를 enumerate로 풀어보기\n",
        "scores = [90, 25, 67, 45, 80]"
      ],
      "execution_count": null,
      "outputs": []
    },
    {
      "cell_type": "code",
      "metadata": {
        "id": "HlghR3As5toz",
        "colab_type": "code",
        "colab": {}
      },
      "source": [
        ""
      ],
      "execution_count": null,
      "outputs": []
    },
    {
      "cell_type": "markdown",
      "metadata": {
        "id": "P88BC2lA6I2F",
        "colab_type": "text"
      },
      "source": [
        "### list comprehension"
      ]
    },
    {
      "cell_type": "code",
      "metadata": {
        "id": "zmojUUpR6MXU",
        "colab_type": "code",
        "colab": {
          "base_uri": "https://localhost:8080/",
          "height": 34
        },
        "outputId": "1f71b713-fd56-4556-9e6b-2acdc4e346f1"
      },
      "source": [
        "# 아래 for문을 활용한 리스트 생성을 짧게 줄여본다.\n",
        "squares = []\n",
        "for x in range(10):\n",
        "  squares.append(x**2)\n",
        "\n",
        "squares"
      ],
      "execution_count": null,
      "outputs": [
        {
          "output_type": "execute_result",
          "data": {
            "text/plain": [
              "[0, 1, 4, 9, 16, 25, 36, 49, 64, 81]"
            ]
          },
          "metadata": {
            "tags": []
          },
          "execution_count": 20
        }
      ]
    },
    {
      "cell_type": "code",
      "metadata": {
        "id": "dpRRL2fF6aTo",
        "colab_type": "code",
        "colab": {}
      },
      "source": [
        "squares2 = []"
      ],
      "execution_count": null,
      "outputs": []
    },
    {
      "cell_type": "code",
      "metadata": {
        "id": "C1KeEhih6itb",
        "colab_type": "code",
        "colab": {}
      },
      "source": [
        "# for문을 활용한 구구단 출력을 list comprehension으로 바꿔보자\n",
        "result = []\n",
        "for i in range(2, 10):\n",
        "  for j in range(1, 10):\n",
        "    result.append(i*j)    \n",
        "result"
      ],
      "execution_count": null,
      "outputs": []
    },
    {
      "cell_type": "code",
      "metadata": {
        "id": "NbzzLpFu6-HW",
        "colab_type": "code",
        "colab": {}
      },
      "source": [
        "result2 = []"
      ],
      "execution_count": null,
      "outputs": []
    },
    {
      "cell_type": "markdown",
      "metadata": {
        "id": "k8kR4FPq7FAj",
        "colab_type": "text"
      },
      "source": [
        "### while 문"
      ]
    },
    {
      "cell_type": "code",
      "metadata": {
        "id": "H3h-9TX57KU2",
        "colab_type": "code",
        "colab": {
          "base_uri": "https://localhost:8080/",
          "height": 187
        },
        "outputId": "be47972d-404b-4097-c3b9-56637089f660"
      },
      "source": [
        "# 아래의 for 문을 while문으로 교체 하기\n",
        "for i in range(10):\n",
        "  print(i)"
      ],
      "execution_count": null,
      "outputs": [
        {
          "output_type": "stream",
          "text": [
            "0\n",
            "1\n",
            "2\n",
            "3\n",
            "4\n",
            "5\n",
            "6\n",
            "7\n",
            "8\n",
            "9\n"
          ],
          "name": "stdout"
        }
      ]
    },
    {
      "cell_type": "code",
      "metadata": {
        "id": "e4UGWg3I7fS_",
        "colab_type": "code",
        "colab": {
          "base_uri": "https://localhost:8080/",
          "height": 187
        },
        "outputId": "36999051-d491-4fe0-cc60-3275d785267c"
      },
      "source": [
        "a = 0\n",
        "while :\n",
        "  print(a)"
      ],
      "execution_count": null,
      "outputs": [
        {
          "output_type": "stream",
          "text": [
            "0\n",
            "1\n",
            "2\n",
            "3\n",
            "4\n",
            "5\n",
            "6\n",
            "7\n",
            "8\n",
            "9\n"
          ],
          "name": "stdout"
        }
      ]
    },
    {
      "cell_type": "code",
      "metadata": {
        "id": "8CbwQVVn8Foj",
        "colab_type": "code",
        "colab": {}
      },
      "source": [
        "# 피보나치 수열을 for 와 while문으로 만들어 보기\n",
        "a, b = 0, 1"
      ],
      "execution_count": null,
      "outputs": []
    },
    {
      "cell_type": "code",
      "metadata": {
        "id": "wmmS6Me_7usO",
        "colab_type": "code",
        "colab": {}
      },
      "source": [
        "# for문으로 10번 생성하기\n",
        "for i in range(10):"
      ],
      "execution_count": null,
      "outputs": []
    },
    {
      "cell_type": "code",
      "metadata": {
        "id": "vxy9YD6-9cu7",
        "colab_type": "code",
        "colab": {}
      },
      "source": [
        "# while문으로 10번 생성하기\n",
        "a, b = 0, 1\n",
        "count = 0\n",
        "while "
      ],
      "execution_count": null,
      "outputs": []
    },
    {
      "cell_type": "markdown",
      "metadata": {
        "id": "AWlbgx2LZem-",
        "colab_type": "text"
      },
      "source": [
        "### else, pass, break, continue"
      ]
    },
    {
      "cell_type": "code",
      "metadata": {
        "id": "LXSphK5LZo0c",
        "colab_type": "code",
        "colab": {}
      },
      "source": [
        "# if, break를 이용하여 num을 3까지만 출력하기\n",
        "num = 0\n",
        "while num < 10:\n",
        "  num += 1\n",
        "  print('Number is' + str(num))\n"
      ],
      "execution_count": null,
      "outputs": []
    },
    {
      "cell_type": "code",
      "metadata": {
        "id": "XuCUfcZRaIYQ",
        "colab_type": "code",
        "colab": {}
      },
      "source": [
        "# if, continue 사용하여, 10까지 숫자 중 짝수만 출력해보기\n"
      ],
      "execution_count": null,
      "outputs": []
    },
    {
      "cell_type": "markdown",
      "metadata": {
        "id": "avVX00IOpP-e",
        "colab_type": "text"
      },
      "source": [
        "### 파일 입출력\n",
        "\n",
        "#### 파일 쓰기"
      ]
    },
    {
      "cell_type": "code",
      "metadata": {
        "id": "JVHFCweTpxrz",
        "colab_type": "code",
        "colab": {}
      },
      "source": [
        "filename = '/content/gdriv/My Drive/new_file.txt'\n",
        "f = open(filename, 'w')\n",
        "\n",
        "for i in range(1, 11):\n",
        "  f.write(f'{ i } 번째 줄입니다.\\n')\n",
        "\n",
        "f.close()"
      ],
      "execution_count": 9,
      "outputs": []
    },
    {
      "cell_type": "code",
      "metadata": {
        "id": "ylTMUrVlrlIG",
        "colab_type": "code",
        "colab": {}
      },
      "source": [
        "!ls /content/gdriv/My\\ Drive"
      ],
      "execution_count": null,
      "outputs": []
    },
    {
      "cell_type": "code",
      "metadata": {
        "id": "EaivDXf9rrAI",
        "colab_type": "code",
        "colab": {
          "base_uri": "https://localhost:8080/",
          "height": 187
        },
        "outputId": "373b7379-58a8-4351-9dcf-1e50b80d3401"
      },
      "source": [
        "!cat /content/gdriv/My\\ Drive/new_file.txt"
      ],
      "execution_count": 11,
      "outputs": [
        {
          "output_type": "stream",
          "text": [
            "1 번째 줄입니다.\n",
            "2 번째 줄입니다.\n",
            "3 번째 줄입니다.\n",
            "4 번째 줄입니다.\n",
            "5 번째 줄입니다.\n",
            "6 번째 줄입니다.\n",
            "7 번째 줄입니다.\n",
            "8 번째 줄입니다.\n",
            "9 번째 줄입니다.\n",
            "10 번째 줄입니다.\n"
          ],
          "name": "stdout"
        }
      ]
    },
    {
      "cell_type": "code",
      "metadata": {
        "id": "tRX3alVhsVQ5",
        "colab_type": "code",
        "colab": {}
      },
      "source": [
        "# 위 구문 보다 'with'를 활용한 파일 읽기/쓰기를 활용하는 것이 더 낫다.\n",
        "# with를 활용하여 new_file2.txt를 만들기"
      ],
      "execution_count": null,
      "outputs": []
    },
    {
      "cell_type": "markdown",
      "metadata": {
        "id": "Y9uKlLuarxjp",
        "colab_type": "text"
      },
      "source": [
        "#### 파일 읽기"
      ]
    },
    {
      "cell_type": "code",
      "metadata": {
        "id": "gJKvFxN4sTZk",
        "colab_type": "code",
        "colab": {
          "base_uri": "https://localhost:8080/",
          "height": 51
        },
        "outputId": "2b2a2fe7-4ab8-4f81-c113-13930b58ff64"
      },
      "source": [
        "# 한줄 읽기 : readline()\n",
        "f = open('/content/gdriv/My Drive/new_file.txt', 'r')\n",
        "line = f.readline()\n",
        "f.close\n",
        "print(line)"
      ],
      "execution_count": 12,
      "outputs": [
        {
          "output_type": "stream",
          "text": [
            "1 번째 줄입니다.\n",
            "\n"
          ],
          "name": "stdout"
        }
      ]
    },
    {
      "cell_type": "code",
      "metadata": {
        "id": "P0QpI2xztVBV",
        "colab_type": "code",
        "colab": {
          "base_uri": "https://localhost:8080/",
          "height": 204
        },
        "outputId": "b227323e-c065-41a4-df76-a999f59b486e"
      },
      "source": [
        "# 파일 몽땅 읽어 리스트로 저장 : readlines()\n",
        "f = open('/content/gdriv/My Drive/new_file.txt', 'r')\n",
        "lines = f.readlines()\n",
        "print(type(lines))\n",
        "lines\n"
      ],
      "execution_count": 14,
      "outputs": [
        {
          "output_type": "stream",
          "text": [
            "<class 'list'>\n"
          ],
          "name": "stdout"
        },
        {
          "output_type": "execute_result",
          "data": {
            "text/plain": [
              "['1 번째 줄입니다.\\n',\n",
              " '2 번째 줄입니다.\\n',\n",
              " '3 번째 줄입니다.\\n',\n",
              " '4 번째 줄입니다.\\n',\n",
              " '5 번째 줄입니다.\\n',\n",
              " '6 번째 줄입니다.\\n',\n",
              " '7 번째 줄입니다.\\n',\n",
              " '8 번째 줄입니다.\\n',\n",
              " '9 번째 줄입니다.\\n',\n",
              " '10 번째 줄입니다.\\n']"
            ]
          },
          "metadata": {
            "tags": []
          },
          "execution_count": 14
        }
      ]
    },
    {
      "cell_type": "code",
      "metadata": {
        "id": "4X835XWqtqgz",
        "colab_type": "code",
        "colab": {
          "base_uri": "https://localhost:8080/",
          "height": 69
        },
        "outputId": "df1b06e1-4bee-49c0-8a53-9824ec45bbeb"
      },
      "source": [
        "# 파일 몽땅 읽어 문자열로 저장\n",
        "f = open('/content/gdriv/My Drive/new_file.txt', 'r')\n",
        "all_chars = f.read()\n",
        "print(type(all_chars))\n",
        "all_chars"
      ],
      "execution_count": 15,
      "outputs": [
        {
          "output_type": "stream",
          "text": [
            "<class 'str'>\n"
          ],
          "name": "stdout"
        },
        {
          "output_type": "execute_result",
          "data": {
            "application/vnd.google.colaboratory.intrinsic": {
              "type": "string"
            },
            "text/plain": [
              "'1 번째 줄입니다.\\n2 번째 줄입니다.\\n3 번째 줄입니다.\\n4 번째 줄입니다.\\n5 번째 줄입니다.\\n6 번째 줄입니다.\\n7 번째 줄입니다.\\n8 번째 줄입니다.\\n9 번째 줄입니다.\\n10 번째 줄입니다.\\n'"
            ]
          },
          "metadata": {
            "tags": []
          },
          "execution_count": 15
        }
      ]
    },
    {
      "cell_type": "code",
      "metadata": {
        "id": "xZH7oPTVt_B4",
        "colab_type": "code",
        "colab": {
          "base_uri": "https://localhost:8080/",
          "height": 357
        },
        "outputId": "517fe526-c152-4ef5-b643-aa15c3dc6f98"
      },
      "source": [
        "# read 관련 함수 사용하지 않고 for를 이용 (자주 사용)\n",
        "f = open('/content/gdriv/My Drive/new_file.txt', 'r')\n",
        "for line in f:\n",
        "  line = line\n",
        "  print(line)"
      ],
      "execution_count": 19,
      "outputs": [
        {
          "output_type": "stream",
          "text": [
            "1 번째 줄입니다.\n",
            "\n",
            "2 번째 줄입니다.\n",
            "\n",
            "3 번째 줄입니다.\n",
            "\n",
            "4 번째 줄입니다.\n",
            "\n",
            "5 번째 줄입니다.\n",
            "\n",
            "6 번째 줄입니다.\n",
            "\n",
            "7 번째 줄입니다.\n",
            "\n",
            "8 번째 줄입니다.\n",
            "\n",
            "9 번째 줄입니다.\n",
            "\n",
            "10 번째 줄입니다.\n",
            "\n"
          ],
          "name": "stdout"
        }
      ]
    },
    {
      "cell_type": "code",
      "metadata": {
        "id": "xb6El3a1uaof",
        "colab_type": "code",
        "colab": {}
      },
      "source": [
        "# 파일에 새로운 내용 추가 하기 'a'옵션 사용\n",
        "with open('/content/gdriv/My Drive/new_file.txt', 'a') as f:\n",
        "  for i in range(11, 21):\n",
        "   f.write(f'{ i } 번째 줄 아닌가!!\\n')\n",
        "\n"
      ],
      "execution_count": 24,
      "outputs": []
    },
    {
      "cell_type": "code",
      "metadata": {
        "id": "OhT5WXVPvVCt",
        "colab_type": "code",
        "colab": {}
      },
      "source": [
        "!cat '/content/gdriv/My Drive/new_file.txt'"
      ],
      "execution_count": null,
      "outputs": []
    },
    {
      "cell_type": "markdown",
      "metadata": {
        "id": "Jl-drAOjvcQQ",
        "colab_type": "text"
      },
      "source": [
        "### 표준 입출력\n",
        "직접 실행해보세요~ 시간상 넘어가겠습니다"
      ]
    },
    {
      "cell_type": "code",
      "metadata": {
        "id": "CEpuDGzIwJwa",
        "colab_type": "code",
        "colab": {}
      },
      "source": [
        ""
      ],
      "execution_count": null,
      "outputs": []
    },
    {
      "cell_type": "markdown",
      "metadata": {
        "id": "p0Q-pOQ9wcNW",
        "colab_type": "text"
      },
      "source": [
        "### 함수"
      ]
    },
    {
      "cell_type": "code",
      "metadata": {
        "id": "vHNjO7qTwezL",
        "colab_type": "code",
        "colab": {}
      },
      "source": [
        "# 두 변수의 합을 계산해주는 나만의 함수\n",
        "def sum_two_var()"
      ],
      "execution_count": null,
      "outputs": []
    },
    {
      "cell_type": "code",
      "metadata": {
        "id": "Ml-rzx0dwued",
        "colab_type": "code",
        "colab": {}
      },
      "source": [
        "# 입력값이 임의의 여러개 인경우 '*args' 를 이용 (튜플로 인식하여 가져옴)\n",
        "# mode가 '+' / '*' 에따라 덧셈 곱셈을 해주는 함수 제작하고 테스트하기\n",
        "def sum_or_mul(mode, *args):\n",
        "  if "
      ],
      "execution_count": null,
      "outputs": []
    },
    {
      "cell_type": "code",
      "metadata": {
        "id": "_ZQoDLE9xc7D",
        "colab_type": "code",
        "colab": {
          "base_uri": "https://localhost:8080/",
          "height": 34
        },
        "outputId": "1064b254-aad2-4d37-f566-34b7c8ed1f11"
      },
      "source": [
        "# 함수의 출력값이 여러개일 경우에도 하나로 받을 수 있으며 이 변수의 타입은 '튜플!'\n",
        "def sum_and_mul(a, b):\n",
        "  return a+b, a*b\n",
        "\n",
        "sum_and_mul(3, 4)"
      ],
      "execution_count": 26,
      "outputs": [
        {
          "output_type": "execute_result",
          "data": {
            "text/plain": [
              "(7, 12)"
            ]
          },
          "metadata": {
            "tags": []
          },
          "execution_count": 26
        }
      ]
    },
    {
      "cell_type": "code",
      "metadata": {
        "id": "qKOMkz_Ix5h5",
        "colab_type": "code",
        "colab": {
          "base_uri": "https://localhost:8080/",
          "height": 34
        },
        "outputId": "5c6c5b24-f6c7-4d59-a10c-a45021f39806"
      },
      "source": [
        "# '*args'는 튜플로 인식하나 딕셔너리면 '**kwargs'로 보내거나 받는다\n",
        "def add(a=0, b=0):\n",
        "  return a + b\n",
        "\n",
        "d = {'a': 2, 'b': 3}\n",
        "add(**d)"
      ],
      "execution_count": 33,
      "outputs": [
        {
          "output_type": "execute_result",
          "data": {
            "text/plain": [
              "5"
            ]
          },
          "metadata": {
            "tags": []
          },
          "execution_count": 33
        }
      ]
    },
    {
      "cell_type": "code",
      "metadata": {
        "id": "bEUkvpO8zd_F",
        "colab_type": "code",
        "colab": {
          "base_uri": "https://localhost:8080/",
          "height": 51
        },
        "outputId": "a04e32b3-7fc4-4fdf-a48a-7647ebba2174"
      },
      "source": [
        "def cheeseshop(kind, *args, **kwargs):\n",
        "  print(type(args), len(args))\n",
        "  print(type(kwargs), len(kwargs))\n",
        "\n",
        "cheeseshop(1, 2, 3, a='a', b='b')"
      ],
      "execution_count": 35,
      "outputs": [
        {
          "output_type": "stream",
          "text": [
            "<class 'tuple'> 2\n",
            "<class 'dict'> 2\n"
          ],
          "name": "stdout"
        }
      ]
    },
    {
      "cell_type": "code",
      "metadata": {
        "id": "Il24-N-V0Q62",
        "colab_type": "code",
        "colab": {
          "base_uri": "https://localhost:8080/",
          "height": 51
        },
        "outputId": "dc4a7201-35c3-48e0-93b2-8587db994a1e"
      },
      "source": [
        "cheeseshop(1, a='a')"
      ],
      "execution_count": 37,
      "outputs": [
        {
          "output_type": "stream",
          "text": [
            "<class 'tuple'> 0\n",
            "<class 'dict'> 1\n"
          ],
          "name": "stdout"
        }
      ]
    },
    {
      "cell_type": "code",
      "metadata": {
        "id": "IfmOCFyR0dC6",
        "colab_type": "code",
        "colab": {}
      },
      "source": [
        "# 지역 변수 개념 확인\n",
        "def aaaa(y):\n",
        "  y = y + 1"
      ],
      "execution_count": 46,
      "outputs": []
    },
    {
      "cell_type": "code",
      "metadata": {
        "id": "n5O_k0QR0kOO",
        "colab_type": "code",
        "colab": {
          "base_uri": "https://localhost:8080/",
          "height": 34
        },
        "outputId": "fb00066e-cddd-4883-9a36-3d6c24a60d80"
      },
      "source": [
        "y = 100\n",
        "aaaa(y)\n",
        "print(y)"
      ],
      "execution_count": 48,
      "outputs": [
        {
          "output_type": "stream",
          "text": [
            "100\n"
          ],
          "name": "stdout"
        }
      ]
    },
    {
      "cell_type": "markdown",
      "metadata": {
        "id": "rCvd2-sF1Nnl",
        "colab_type": "text"
      },
      "source": [
        "### lambda, map, filter"
      ]
    },
    {
      "cell_type": "code",
      "metadata": {
        "id": "Aqrswbmx2J69",
        "colab_type": "code",
        "colab": {
          "base_uri": "https://localhost:8080/",
          "height": 34
        },
        "outputId": "86eb4fd2-f204-41d8-f2bd-8833069adeb9"
      },
      "source": [
        "# lambda는 한줄 함수\n",
        "# 다음 함수를 lambda로 바꿔보기\n",
        "def sum(a, b):\n",
        "  return a+b\n",
        "\n",
        "sum(3, 4)"
      ],
      "execution_count": 49,
      "outputs": [
        {
          "output_type": "execute_result",
          "data": {
            "text/plain": [
              "7"
            ]
          },
          "metadata": {
            "tags": []
          },
          "execution_count": 49
        }
      ]
    },
    {
      "cell_type": "code",
      "metadata": {
        "id": "z5YqI_Mq2XJS",
        "colab_type": "code",
        "colab": {}
      },
      "source": [
        "sum = lambda"
      ],
      "execution_count": null,
      "outputs": []
    },
    {
      "cell_type": "code",
      "metadata": {
        "id": "cjekTSfN2hXf",
        "colab_type": "code",
        "colab": {
          "base_uri": "https://localhost:8080/",
          "height": 34
        },
        "outputId": "29d3855e-b92b-48d5-e7ad-6442e4029674"
      },
      "source": [
        "# map은 lambda(혹은 함수)와 리스트를 연결한다\n",
        "# 아래 리스트를 제곱한 리스트를 출력\n",
        "a = [1, 2, 3, 4]\n",
        "map(lambda)"
      ],
      "execution_count": 51,
      "outputs": [
        {
          "output_type": "execute_result",
          "data": {
            "text/plain": [
              "[1, 4, 9, 16]"
            ]
          },
          "metadata": {
            "tags": []
          },
          "execution_count": 51
        }
      ]
    },
    {
      "cell_type": "code",
      "metadata": {
        "id": "hy-tqMsK25J5",
        "colab_type": "code",
        "colab": {
          "base_uri": "https://localhost:8080/",
          "height": 34
        },
        "outputId": "e82fd7f8-e96e-4992-d3b4-987483a934aa"
      },
      "source": [
        "# filter는 map과 유사하나 특정 조건을 걸어 리스트를 선별\n",
        "# 리스트 요소 중 양수만 뽑자\n",
        "a = [1, -3, 2, -5, 4]\n",
        "list(filter(lambda x: x>0, a))"
      ],
      "execution_count": 52,
      "outputs": [
        {
          "output_type": "execute_result",
          "data": {
            "text/plain": [
              "[1, 2, 4]"
            ]
          },
          "metadata": {
            "tags": []
          },
          "execution_count": 52
        }
      ]
    },
    {
      "cell_type": "markdown",
      "metadata": {
        "id": "Vt4V3vGl3gZt",
        "colab_type": "text"
      },
      "source": [
        "### 모듈"
      ]
    },
    {
      "cell_type": "code",
      "metadata": {
        "id": "Yr2BLJdL8Vld",
        "colab_type": "code",
        "colab": {}
      },
      "source": [
        "import math"
      ],
      "execution_count": 53,
      "outputs": []
    },
    {
      "cell_type": "code",
      "metadata": {
        "id": "qsk7zAdp8X5a",
        "colab_type": "code",
        "colab": {
          "base_uri": "https://localhost:8080/",
          "height": 34
        },
        "outputId": "9301ac34-1252-481b-8165-8353bf70ea79"
      },
      "source": [
        "# 수열 계산\n",
        "n = math.factorial(3)\n",
        "n"
      ],
      "execution_count": 54,
      "outputs": [
        {
          "output_type": "execute_result",
          "data": {
            "text/plain": [
              "6"
            ]
          },
          "metadata": {
            "tags": []
          },
          "execution_count": 54
        }
      ]
    },
    {
      "cell_type": "code",
      "metadata": {
        "id": "SeJVDwqt8bLx",
        "colab_type": "code",
        "colab": {}
      },
      "source": [
        "import os"
      ],
      "execution_count": 55,
      "outputs": []
    },
    {
      "cell_type": "code",
      "metadata": {
        "id": "7N80X-U59DOZ",
        "colab_type": "code",
        "colab": {
          "base_uri": "https://localhost:8080/",
          "height": 35
        },
        "outputId": "213d77e3-e6b2-4c78-8290-ade8045b6e09"
      },
      "source": [
        "# 경로와 파일명 분리\n",
        "filename = '/content/gdriv/My Drive/new_file.txt'\n",
        "filename_wo_path = os.path.basename(filename)\n",
        "filename_wo_path"
      ],
      "execution_count": 57,
      "outputs": [
        {
          "output_type": "execute_result",
          "data": {
            "application/vnd.google.colaboratory.intrinsic": {
              "type": "string"
            },
            "text/plain": [
              "'new_file.txt'"
            ]
          },
          "metadata": {
            "tags": []
          },
          "execution_count": 57
        }
      ]
    },
    {
      "cell_type": "code",
      "metadata": {
        "id": "vG_DhIcR9PKP",
        "colab_type": "code",
        "colab": {
          "base_uri": "https://localhost:8080/",
          "height": 34
        },
        "outputId": "a839e680-0058-4e1f-f72f-2c5e9c9a4627"
      },
      "source": [
        "# 파일 명과 확장명 분리\n",
        "base, ext = os.path.splitext(filename_wo_path)\n",
        "base, ext"
      ],
      "execution_count": 59,
      "outputs": [
        {
          "output_type": "execute_result",
          "data": {
            "text/plain": [
              "('new_file', '.txt')"
            ]
          },
          "metadata": {
            "tags": []
          },
          "execution_count": 59
        }
      ]
    },
    {
      "cell_type": "code",
      "metadata": {
        "id": "9KfGaDui9cYM",
        "colab_type": "code",
        "colab": {}
      },
      "source": [
        "# 외부 라이브러리 설치 (jupyter에서)\n",
        "!pip install pandas"
      ],
      "execution_count": null,
      "outputs": []
    },
    {
      "cell_type": "code",
      "metadata": {
        "id": "jj59kgE399Ki",
        "colab_type": "code",
        "colab": {}
      },
      "source": [
        ""
      ],
      "execution_count": null,
      "outputs": []
    }
  ]
}