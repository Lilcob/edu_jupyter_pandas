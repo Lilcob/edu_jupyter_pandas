{
  "nbformat": 4,
  "nbformat_minor": 0,
  "metadata": {
    "kernelspec": {
      "display_name": "Python 3",
      "language": "python",
      "name": "python3"
    },
    "language_info": {
      "codemirror_mode": {
        "name": "ipython",
        "version": 3
      },
      "file_extension": ".py",
      "mimetype": "text/x-python",
      "name": "python",
      "nbconvert_exporter": "python",
      "pygments_lexer": "ipython3",
      "version": "3.6.10"
    },
    "varInspector": {
      "cols": {
        "lenName": 16,
        "lenType": 16,
        "lenVar": 40
      },
      "kernels_config": {
        "python": {
          "delete_cmd_postfix": "",
          "delete_cmd_prefix": "del ",
          "library": "var_list.py",
          "varRefreshCmd": "print(var_dic_list())"
        },
        "r": {
          "delete_cmd_postfix": ") ",
          "delete_cmd_prefix": "rm(",
          "library": "var_list.r",
          "varRefreshCmd": "cat(var_dic_list()) "
        }
      },
      "types_to_exclude": [
        "module",
        "function",
        "builtin_function_or_method",
        "instance",
        "_Feature"
      ],
      "window_display": false
    },
    "colab": {
      "name": "쥬피터에서 마크다운이용하기(colab).ipynb",
      "provenance": [],
      "include_colab_link": true
    }
  },
  "cells": [
    {
      "cell_type": "markdown",
      "metadata": {
        "id": "view-in-github",
        "colab_type": "text"
      },
      "source": [
        "<a href=\"https://colab.research.google.com/github/duc-ke/edu_jupyter_pandas/blob/master/%EC%A5%AC%ED%94%BC%ED%84%B0%EC%97%90%EC%84%9C_%EB%A7%88%ED%81%AC%EB%8B%A4%EC%9A%B4%EC%9D%B4%EC%9A%A9%ED%95%98%EA%B8%B0(colab).ipynb\" target=\"_parent\"><img src=\"https://colab.research.google.com/assets/colab-badge.svg\" alt=\"Open In Colab\"/></a>"
      ]
    },
    {
      "cell_type": "markdown",
      "metadata": {
        "id": "RmiM1jwWWK3P",
        "colab_type": "text"
      },
      "source": [
        "#### History"
      ]
    },
    {
      "cell_type": "markdown",
      "metadata": {
        "id": "2WkMa3uWWK3Q",
        "colab_type": "text"
      },
      "source": [
        "* made by KE (200824)"
      ]
    },
    {
      "cell_type": "markdown",
      "metadata": {
        "id": "L-UAczR6WK3R",
        "colab_type": "text"
      },
      "source": [
        "## 자주쓰는 단축키들 사용해봅시다\n",
        "***\n",
        "- ESC : 셀 편집모드\n",
        "- Enter : 글자 편집모드\n",
        "- Shift + Enter : 셀 실행하며 새로운 셀 추가\n",
        "- Ctrl + Enter : 셀 실행\n",
        "- Prefix : Ctrl + M\n",
        "- 셀편집모드 (ESC) 에서 `Prefix` 와 함께\n",
        " - Y : 언어 코드 모드\n",
        " - M : 마크 다운 모드\n",
        " - B : 선택된 셀 아래에 셀 추가\n",
        " - A : 선택된 셀 위에 셀 추가\n",
        " - P : 이전 셀로 이동\n",
        " - N : 다음 셀로 이동\n",
        " - D : 해당 셀 삭제"
      ]
    },
    {
      "cell_type": "code",
      "metadata": {
        "id": "EmC7T9WCksri",
        "colab_type": "code",
        "colab": {}
      },
      "source": [
        ""
      ],
      "execution_count": null,
      "outputs": []
    },
    {
      "cell_type": "code",
      "metadata": {
        "id": "yK6MVxqkWK3V",
        "colab_type": "code",
        "colab": {},
        "outputId": "21238010-2211-4174-a62a-2b1f938daf46"
      },
      "source": [
        "print(\"안녕하세요\")"
      ],
      "execution_count": null,
      "outputs": [
        {
          "output_type": "stream",
          "text": [
            "안녕하세요\n"
          ],
          "name": "stdout"
        }
      ]
    },
    {
      "cell_type": "markdown",
      "metadata": {
        "id": "E5aDTpiJWK3Y",
        "colab_type": "text"
      },
      "source": [
        "## 마크 다운을 연습해 봅시다.\n",
        "아래의 셀들을 엔터 or 더블클릭시 마크다운을 확인가능."
      ]
    },
    {
      "cell_type": "markdown",
      "metadata": {
        "id": "moWDLo_kWK3Y",
        "colab_type": "text"
      },
      "source": [
        "### 1. Headers\n",
        "***\n",
        "\n",
        "```\n",
        "# 헤더\n",
        "## 서브헤더\n",
        "### 서브서브헤더\n",
        "```"
      ]
    },
    {
      "cell_type": "markdown",
      "metadata": {
        "id": "IS0Ut-CDWK3Z",
        "colab_type": "text"
      },
      "source": [
        "# 헤더\n",
        "## 서브헤더\n",
        "### 서브서브헤더"
      ]
    },
    {
      "cell_type": "code",
      "metadata": {
        "id": "lzVv9UkZWK3Z",
        "colab_type": "code",
        "colab": {}
      },
      "source": [
        "\n"
      ],
      "execution_count": null,
      "outputs": []
    },
    {
      "cell_type": "markdown",
      "metadata": {
        "id": "qgP2L03vWK3c",
        "colab_type": "text"
      },
      "source": [
        "### 2. BlockQuote\n",
        "***\n",
        "\n",
        "```\n",
        "> This is a first blockqute.\n",
        ">> This is a second blockqute.\n",
        ">>> This is a third blockqute.\n",
        "```"
      ]
    },
    {
      "cell_type": "markdown",
      "metadata": {
        "id": "V3PCBnxrWK3d",
        "colab_type": "text"
      },
      "source": [
        "> This is a first blockqute.\n",
        ">> This is a second blockqute.\n",
        ">>> This is a third blockqute."
      ]
    },
    {
      "cell_type": "code",
      "metadata": {
        "id": "TvuHieC4WK3e",
        "colab_type": "code",
        "colab": {}
      },
      "source": [
        ""
      ],
      "execution_count": null,
      "outputs": []
    },
    {
      "cell_type": "markdown",
      "metadata": {
        "id": "FmK1xBB4WK3g",
        "colab_type": "text"
      },
      "source": [
        "### 3. 목록\n",
        "***\n",
        "\n",
        "#### 3.1 순서있는 목록\n",
        "\n",
        "```\n",
        "1. 첫번째\n",
        "2. 두번째\n",
        "3. 세번째\n",
        "```"
      ]
    },
    {
      "cell_type": "markdown",
      "metadata": {
        "id": "W7bpOQYYWK3h",
        "colab_type": "text"
      },
      "source": [
        "1. 첫번째\n",
        "2. 두번째\n",
        "3. 세번째"
      ]
    },
    {
      "cell_type": "code",
      "metadata": {
        "id": "xoJUkoxyWK3h",
        "colab_type": "code",
        "colab": {}
      },
      "source": [
        ""
      ],
      "execution_count": null,
      "outputs": []
    },
    {
      "cell_type": "markdown",
      "metadata": {
        "id": "zoShR1XIWK3k",
        "colab_type": "text"
      },
      "source": [
        "#### 3.2 순서없는 목록\n",
        "\n",
        "```\n",
        "* 빨강\n",
        "  * 녹색\n",
        "    * 파랑\n",
        "\n",
        "+ 빨강\n",
        "  + 녹색\n",
        "    + 파랑\n",
        "\n",
        "- 빨강\n",
        "  - 녹색\n",
        "    - 파랑\n",
        "```"
      ]
    },
    {
      "cell_type": "markdown",
      "metadata": {
        "id": "cw_RE86SWK3n",
        "colab_type": "text"
      },
      "source": [
        "* 빨강\n",
        "  * 녹색\n",
        "    * 파랑\n",
        "\n",
        "+ 빨강\n",
        "  + 녹색\n",
        "    + 파랑\n",
        "\n",
        "- 빨강\n",
        "  - 녹색\n",
        "    - 파랑"
      ]
    },
    {
      "cell_type": "code",
      "metadata": {
        "id": "YaIbjrKGWK3n",
        "colab_type": "code",
        "colab": {}
      },
      "source": [
        ""
      ],
      "execution_count": null,
      "outputs": []
    },
    {
      "cell_type": "markdown",
      "metadata": {
        "id": "rbrdNgjnWK3q",
        "colab_type": "text"
      },
      "source": [
        "### 4. 코드 강조\n",
        "***\n",
        "\n",
        "```\n",
        "`단어코드 & 혹은 강조`\n",
        "```"
      ]
    },
    {
      "cell_type": "markdown",
      "metadata": {
        "id": "S1Sx1tdIWK3q",
        "colab_type": "text"
      },
      "source": [
        "`단어코드 & 혹은 강조`"
      ]
    },
    {
      "cell_type": "code",
      "metadata": {
        "id": "O3I7VLz_WK3r",
        "colab_type": "code",
        "colab": {}
      },
      "source": [
        ""
      ],
      "execution_count": null,
      "outputs": []
    },
    {
      "cell_type": "markdown",
      "metadata": {
        "id": "sa4Sh1_BWK3t",
        "colab_type": "text"
      },
      "source": [
        "### 5. 수평선\n",
        "***\n",
        "\n",
        "```\n",
        "***\n",
        "--------\n",
        "```"
      ]
    },
    {
      "cell_type": "markdown",
      "metadata": {
        "id": "feijD-_JWK3t",
        "colab_type": "text"
      },
      "source": [
        "***\n",
        "--------"
      ]
    },
    {
      "cell_type": "code",
      "metadata": {
        "id": "GXPOM-6eWK3u",
        "colab_type": "code",
        "colab": {}
      },
      "source": [
        ""
      ],
      "execution_count": null,
      "outputs": []
    },
    {
      "cell_type": "markdown",
      "metadata": {
        "id": "LU6MJVSLWK3x",
        "colab_type": "text"
      },
      "source": [
        "### 6. 링크(with 단축)\n",
        "***\n",
        "\n",
        "```\n",
        "[네이버 바로가기](https://www.naver.com/)\n",
        "```"
      ]
    },
    {
      "cell_type": "markdown",
      "metadata": {
        "id": "R_IXewocWK3y",
        "colab_type": "text"
      },
      "source": [
        "[네이버 바로가기](https://www.naver.com/)"
      ]
    },
    {
      "cell_type": "code",
      "metadata": {
        "id": "7tqkqFjEWK3z",
        "colab_type": "code",
        "colab": {}
      },
      "source": [
        ""
      ],
      "execution_count": null,
      "outputs": []
    },
    {
      "cell_type": "markdown",
      "metadata": {
        "id": "n7QJreBEWK31",
        "colab_type": "text"
      },
      "source": [
        "### 7. 단어강조\n",
        "***\n",
        "\n",
        "```\n",
        "**굵게 쓰기**\n",
        "\n",
        "가나다<br>라마\n",
        "\n",
        "~~취소선~~\n",
        "```"
      ]
    },
    {
      "cell_type": "markdown",
      "metadata": {
        "id": "v29oPpGxWK31",
        "colab_type": "text"
      },
      "source": [
        "**굵게 쓰기**\n",
        "\n",
        "가나다<br>라마\n",
        "\n",
        "~~취소선~~"
      ]
    },
    {
      "cell_type": "code",
      "metadata": {
        "id": "XARkH2AuWK32",
        "colab_type": "code",
        "colab": {}
      },
      "source": [
        ""
      ],
      "execution_count": null,
      "outputs": []
    },
    {
      "cell_type": "markdown",
      "metadata": {
        "id": "BqsC_X7_WK34",
        "colab_type": "text"
      },
      "source": [
        "### 8. 이미지 업로드\n",
        "***\n",
        "- 마크다운 모드에서 이미지 업로드 선택\n",
        "\n",
        "![6.image_upload.png](data:image/png;base64,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)\n",
        "\n",
        "\n"
      ]
    },
    {
      "cell_type": "markdown",
      "metadata": {
        "id": "s7VXUBMGWK34",
        "colab_type": "text"
      },
      "source": [
        ""
      ]
    }
  ]
}